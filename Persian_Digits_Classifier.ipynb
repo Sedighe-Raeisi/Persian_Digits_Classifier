{
  "nbformat": 4,
  "nbformat_minor": 0,
  "metadata": {
    "colab": {
      "name": "Copy of 2nd_ (small)persian number dataset.ipynb",
      "provenance": [],
      "collapsed_sections": [
        "M3OInuH9GSKS",
        "6dlYZ-GiGXSL",
        "n8lfdnpHGbgH",
        "l63QSBuPGe9E"
      ],
      "mount_file_id": "1PJa8cNbrBiNitiRXzBOJDxl4LgXAlKEp",
      "authorship_tag": "ABX9TyMztEx6cBvFq6Dx11SyBOtw",
      "include_colab_link": true
    },
    "kernelspec": {
      "name": "python3",
      "display_name": "Python 3"
    },
    "language_info": {
      "name": "python"
    }
  },
  "cells": [
    {
      "cell_type": "markdown",
      "metadata": {
        "id": "view-in-github",
        "colab_type": "text"
      },
      "source": [
        "<a href=\"https://colab.research.google.com/github/Sedighe-Raeisi/Persian_Digits_Classifier/blob/main/Persian_Digits_Classifier.ipynb\" target=\"_parent\"><img src=\"https://colab.research.google.com/assets/colab-badge.svg\" alt=\"Open In Colab\"/></a>"
      ]
    },
    {
      "cell_type": "markdown",
      "metadata": {
        "id": "sgKIcSbo3EuH"
      },
      "source": [
        "#Clssifier for persian Digits:"
      ]
    },
    {
      "cell_type": "code",
      "metadata": {
        "id": "ssw3jj9aYJRY"
      },
      "source": [
        "import matplotlib.pyplot as plt\n",
        "import matplotlib.font_manager as mfm\n",
        "import os\n",
        "import numpy as np\n",
        "import seaborn as sn\n",
        "\n",
        "import cv2"
      ],
      "execution_count": null,
      "outputs": []
    },
    {
      "cell_type": "code",
      "metadata": {
        "id": "bAigcMFBh_Jn"
      },
      "source": [
        "persian_num=['٠','١', '٢' ,'٣','٤','٥','٦','٧','٨','٩']"
      ],
      "execution_count": null,
      "outputs": []
    },
    {
      "cell_type": "code",
      "metadata": {
        "id": "V-BBCMzNMRYI"
      },
      "source": [
        "persian_n=[['٠'],['١'],['٢'],['٣'],['٤','۴'],['٥','۵'],['٦','۶'],['٧'],['٨'],['٩']]"
      ],
      "execution_count": null,
      "outputs": []
    },
    {
      "cell_type": "code",
      "metadata": {
        "colab": {
          "base_uri": "https://localhost:8080/"
        },
        "id": "poGXe0fq2Rll",
        "outputId": "edeaf3e8-6ead-44a6-8754-fd6a77b0c084"
      },
      "source": [
        "from google.colab import drive\n",
        "drive.mount('/content/drive')"
      ],
      "execution_count": null,
      "outputs": [
        {
          "output_type": "stream",
          "name": "stdout",
          "text": [
            "Mounted at /content/drive\n"
          ]
        }
      ]
    },
    {
      "cell_type": "code",
      "metadata": {
        "id": "Ke1tyJADtwah"
      },
      "source": [
        "mypath='/content/drive/MyDrive/MachineLearning/font'"
      ],
      "execution_count": null,
      "outputs": []
    },
    {
      "cell_type": "code",
      "metadata": {
        "id": "zCTdADbdw4W8"
      },
      "source": [
        "font_name=os.listdir(mypath)"
      ],
      "execution_count": null,
      "outputs": []
    },
    {
      "cell_type": "code",
      "metadata": {
        "colab": {
          "base_uri": "https://localhost:8080/"
        },
        "id": "xfjFW4m4UJvW",
        "outputId": "ceaa8434-4d9f-4b1e-92de-24189eaaa265"
      },
      "source": [
        "# len of oll fonts:\n",
        "len(font_name)"
      ],
      "execution_count": null,
      "outputs": [
        {
          "output_type": "execute_result",
          "data": {
            "text/plain": [
              "503"
            ]
          },
          "metadata": {},
          "execution_count": 10
        }
      ]
    },
    {
      "cell_type": "markdown",
      "metadata": {
        "id": "ASz-sO3RGxSZ"
      },
      "source": [
        "\n",
        "##We sudy fonts for appropriate fonts, those fonts which works with matplotlib"
      ]
    },
    {
      "cell_type": "code",
      "metadata": {
        "id": "7f5xGFXGUQRg"
      },
      "source": [
        "# This block was for testing fonts, and then we found some fonts are not working with matplotlib. Then we made a list from appropriate fonts.\n",
        "cc='۴'\n",
        "for font in font_name:#[150:200]:\n",
        "# plt.rc('axes', unicode_minus=False)\n",
        "  fig = plt.figure()\n",
        "  renderer = fig.canvas.get_renderer()\n",
        "  font_path = mypath+'/'+font\n",
        "  prop = mfm.FontProperties(fname=font_path)\n",
        "  plt.text(0.4, 0.35, s=cc, fontproperties=prop, fontsize=160)\n",
        "  plt.axis('off')\n",
        "  font_n=font.split('.')[0]\n",
        "  # plt.show()\n",
        "  # print(font)\n",
        "  path='/content/drive/MyDrive/MachineLearning/png/'\n",
        "  plt.savefig(path+font_n+'.png', bbox_inches='tight', pad_inches=0)"
      ],
      "execution_count": null,
      "outputs": []
    },
    {
      "cell_type": "markdown",
      "metadata": {
        "id": "Iu5tbIgfTUYP"
      },
      "source": [
        "we tryed to use warning lib and try- exception to remove unvisible fonts, but it didn't work. Therefore, we genrated images and downloaded them and rmoved the courrupted fonts. then we uploaded the remaing images in following direcory. now we take their named to generate our dataset. "
      ]
    },
    {
      "cell_type": "code",
      "metadata": {
        "id": "beDuxXI_UAIX"
      },
      "source": [
        "my_okPath='/content/drive/MyDrive/MachineLearning/png'"
      ],
      "execution_count": null,
      "outputs": []
    },
    {
      "cell_type": "code",
      "metadata": {
        "id": "7djoO8uhUU_m"
      },
      "source": [
        "okfont_name=os.listdir(my_okPath)"
      ],
      "execution_count": null,
      "outputs": []
    },
    {
      "cell_type": "code",
      "metadata": {
        "id": "eOUtxDnIUeid"
      },
      "source": [
        "ok_font=[]\n",
        "for name in okfont_name:\n",
        "  ok_font.append(name.split('.')[0]+'.ttf')"
      ],
      "execution_count": null,
      "outputs": []
    },
    {
      "cell_type": "code",
      "metadata": {
        "colab": {
          "base_uri": "https://localhost:8080/"
        },
        "id": "-8Tqoff6U9fb",
        "outputId": "42ef3221-cc5b-4795-d260-c5bc421bdbe3"
      },
      "source": [
        "#len of ok fonts:\n",
        "len(ok_font)"
      ],
      "execution_count": null,
      "outputs": [
        {
          "output_type": "execute_result",
          "data": {
            "text/plain": [
              "160"
            ]
          },
          "metadata": {},
          "execution_count": 23
        }
      ]
    },
    {
      "cell_type": "markdown",
      "metadata": {
        "id": "264Rgz42YZIW"
      },
      "source": [
        "If we want these names match font names, we should convert the format of all fonts from TTF to ttf"
      ]
    },
    {
      "cell_type": "code",
      "metadata": {
        "id": "PXgT2EhbYYSe"
      },
      "source": [
        "# do not operate it again:\n",
        "for name in font_name:\n",
        "  scr=mypath+'/'+name\n",
        "\n",
        "  dest=mypath+'/'+name.split('.')[0]+'.ttf'\n",
        "  os.rename(scr,dest)"
      ],
      "execution_count": null,
      "outputs": []
    },
    {
      "cell_type": "markdown",
      "metadata": {
        "id": "0zMm0WZ1iBHO"
      },
      "source": [
        "\n",
        "##Now we genrate our images for ok fonts:"
      ]
    },
    {
      "cell_type": "code",
      "metadata": {
        "id": "mMTo_5k64D6B"
      },
      "source": [
        "my_okPath='/content/drive/MyDrive/MachineLearning/png'\n",
        "okfont_name=os.listdir(my_okPath)"
      ],
      "execution_count": null,
      "outputs": []
    },
    {
      "cell_type": "markdown",
      "metadata": {
        "id": "XuLcDmmz5sCl"
      },
      "source": [
        "This is how we can both create and save images"
      ]
    },
    {
      "cell_type": "code",
      "metadata": {
        "id": "uL5CM_kScrCE"
      },
      "source": [
        "# os.mkdir('/content/drive/MyDrive/MachineLearning/s_png2/')"
      ],
      "execution_count": null,
      "outputs": []
    },
    {
      "cell_type": "code",
      "metadata": {
        "id": "8I_AFmTJLnnS"
      },
      "source": [
        "\n",
        "from tensorflow.keras.utils import img_to_array, to_categorical"
      ],
      "execution_count": null,
      "outputs": []
    },
    {
      "cell_type": "code",
      "metadata": {
        "id": "b3Hk6aMG9o7D"
      },
      "source": [
        "i=0\n",
        "for num in persian_n:\n",
        "  \n",
        "  \n",
        "  for uni_char in num:\n",
        "    for font in ok_font:\n",
        "      fig = plt.figure()\n",
        "      renderer = fig.canvas.get_renderer()\n",
        "      font_path = mypath+'/'+font\n",
        "      prop = mfm.FontProperties(fname=font_path)\n",
        "      fig.set_size_inches(.4, .4)\n",
        "      plt.text(0.05, 0.05, s=uni_char, fontproperties=prop, fontsize=30)\n",
        "      plt.axis('off')\n",
        "      \n",
        "      font_n=font.split('.')[0]\n",
        "      \n",
        "      path='/content/drive/MyDrive/MachineLearning/s_png3/'\n",
        "      plt.savefig(path+str(i)+'_'+font_n+'.png', bbox_inches='tight', pad_inches=0,dpi=100)\n",
        "  i=i+1"
      ],
      "execution_count": null,
      "outputs": []
    },
    {
      "cell_type": "markdown",
      "metadata": {
        "id": "gnMoQ2QS5zy0"
      },
      "source": [
        "Instead of saving images we convert them to a numy array to use in our mode. Simultaneously, we create labels. "
      ]
    },
    {
      "cell_type": "code",
      "metadata": {
        "id": "GgvISWo483q3"
      },
      "source": [
        "image_list=okfont_name=os.listdir('/content/drive/MyDrive/MachineLearning/s_png3/')"
      ],
      "execution_count": null,
      "outputs": []
    },
    {
      "cell_type": "markdown",
      "metadata": {
        "id": "5iK7GLZfF9ks"
      },
      "source": [
        "\n",
        "\n",
        "###Lets look at one sample"
      ]
    },
    {
      "cell_type": "code",
      "metadata": {
        "colab": {
          "base_uri": "https://localhost:8080/",
          "height": 266
        },
        "id": "vnq8azBiCnMb",
        "outputId": "7a9fdb65-26d8-48f3-8dbf-19f03a7b2e15"
      },
      "source": [
        "image_sample1=cv2.imread('/content/drive/MyDrive/MachineLearning/s_png3/4_BTrafcBd.png')\n",
        "\n",
        "plt.imshow(image_sample1);\n"
      ],
      "execution_count": null,
      "outputs": [
        {
          "output_type": "display_data",
          "data": {
            "image/png": "[encoded data removed]",
            "text/plain": [
              "<Figure size 432x288 with 1 Axes>"
            ]
          },
          "metadata": {
            "needs_background": "light"
          }
        }
      ]
    },
    {
      "cell_type": "code",
      "metadata": {
        "colab": {
          "base_uri": "https://localhost:8080/"
        },
        "id": "PUHiUIzvISxe",
        "outputId": "3a934eac-a17b-4421-85de-8a58e96773a8"
      },
      "source": [
        "image_sample1.shape"
      ],
      "execution_count": null,
      "outputs": [
        {
          "output_type": "execute_result",
          "data": {
            "text/plain": [
              "(30, 31, 3)"
            ]
          },
          "metadata": {},
          "execution_count": 50
        }
      ]
    },
    {
      "cell_type": "code",
      "metadata": {
        "id": "QhEJfyz9IiuA"
      },
      "source": [
        "from PIL import Image, ImageOps"
      ],
      "execution_count": null,
      "outputs": []
    },
    {
      "cell_type": "code",
      "metadata": {
        "colab": {
          "base_uri": "https://localhost:8080/",
          "height": 283
        },
        "id": "OBlIuPS8Hy8h",
        "outputId": "2548f8a5-44c1-419c-8315-f860a22744ac"
      },
      "source": [
        "img=Image.open('/content/drive/MyDrive/MachineLearning/s_png3/4_BTrafcBd.png').convert('L')\n",
        "\n",
        "# img=cv2.cvtColor(img,cv2.COLOR_BGR2GRAY)\n",
        "# image_sample1=cv2.resize(image_sample1,(50,50))\n",
        "thresh = img.point(lambda p: p < 64 and 255)\n",
        "bbox1 = img.getbbox()\n",
        "crop1 = img.crop(bbox1)\n",
        "crop1n = ImageOps.invert(crop1)\n",
        "bbox2  = crop1n.getbbox()\n",
        "result = img.crop(bbox1).crop(bbox2)\n",
        "\n",
        "plt.imshow(result)"
      ],
      "execution_count": null,
      "outputs": [
        {
          "output_type": "execute_result",
          "data": {
            "text/plain": [
              "<matplotlib.image.AxesImage at 0x7f20f6c6cfd0>"
            ]
          },
          "metadata": {},
          "execution_count": 23
        },
        {
          "output_type": "display_data",
          "data": {
            "image/png": "[encoded data removed]",
            "text/plain": [
              "<Figure size 432x288 with 1 Axes>"
            ]
          },
          "metadata": {
            "needs_background": "light"
          }
        }
      ]
    },
    {
      "cell_type": "code",
      "metadata": {
        "id": "5svzAdWyDcJb"
      },
      "source": [
        "plt.figure(figsize = (12,12))\n",
        "image_sample1=cv2.cvtColor(image_sample1,cv2.COLOR_BGR2GRAY)\n",
        "img=cv2.resize(image_sample1,(50,50))\n",
        "sn.heatmap(image_sample1, annot=True,fmt=\"d\",cmap=\"YlGnBu\")"
      ],
      "execution_count": null,
      "outputs": []
    },
    {
      "cell_type": "markdown",
      "metadata": {
        "id": "KMIUfR3KLYWE"
      },
      "source": [
        "\n",
        "## Here we crop image to a rectangle of interest and then we save them again:"
      ]
    },
    {
      "cell_type": "code",
      "metadata": {
        "id": "oakO8vRE5QKu"
      },
      "source": [
        "from PIL import Image, ImageOps"
      ],
      "execution_count": null,
      "outputs": []
    },
    {
      "cell_type": "code",
      "metadata": {
        "id": "jyDtD9AwMZT0"
      },
      "source": [
        "os.mkdir('/content/drive/MyDrive/MachineLearning/s_croped_png')"
      ],
      "execution_count": null,
      "outputs": []
    },
    {
      "cell_type": "code",
      "metadata": {
        "id": "mO2n_tuCLidf"
      },
      "source": [
        "croped_png='/content/drive/MyDrive/MachineLearning/s_croped_png/'\n",
        "\n",
        "for image_name in image_list:\n",
        "  img=Image.open('/content/drive/MyDrive/MachineLearning/s_png3/'+image_name).convert('L')\n",
        "  thresh = img.point(lambda p: p < 64 and 255)\n",
        "  bbox1 = img.getbbox()\n",
        "  crop1 = img.crop(bbox1)\n",
        "  crop1n = ImageOps.invert(crop1)\n",
        "  bbox2  = crop1n.getbbox()\n",
        "  result = img.crop(bbox1).crop(bbox2)\n",
        "  result.save(croped_png+image_name)\n",
        "\n"
      ],
      "execution_count": null,
      "outputs": []
    },
    {
      "cell_type": "markdown",
      "metadata": {
        "id": "8D0V6gy2GETR"
      },
      "source": [
        "\n",
        "##Reading and aonverting images to gray mode and then resizing and rescaling and converting to numpy array"
      ]
    },
    {
      "cell_type": "markdown",
      "metadata": {
        "id": "g82jB6uwPN0a"
      },
      "source": [
        "\n",
        "\n",
        "###apply padding to images to make them of the same size"
      ]
    },
    {
      "cell_type": "code",
      "metadata": {
        "id": "dsFLzhy0-ubw"
      },
      "source": [
        "croped_png='/content/drive/MyDrive/MachineLearning/s_croped_png/'"
      ],
      "execution_count": null,
      "outputs": []
    },
    {
      "cell_type": "code",
      "metadata": {
        "id": "5SFn0xTpN86i"
      },
      "source": [
        "image_list=okfont_name=os.listdir('/content/drive/MyDrive/MachineLearning/s_png3/')"
      ],
      "execution_count": null,
      "outputs": []
    },
    {
      "cell_type": "code",
      "metadata": {
        "id": "dJT7ZfKHPk7B"
      },
      "source": [
        "max_width=0\n",
        "max_height=0\n",
        "for image_name in image_list:\n",
        "  img=cv2.imread(croped_png+image_name)\n",
        "  if img.shape[1]>max_width:max_width=img.shape[1]\n",
        "  if img.shape[0]>max_height:max_height=img.shape[0]\n",
        "  "
      ],
      "execution_count": null,
      "outputs": []
    },
    {
      "cell_type": "code",
      "metadata": {
        "colab": {
          "base_uri": "https://localhost:8080/"
        },
        "id": "x5BuvAS0Qm9c",
        "outputId": "10293609-bf8c-4749-ec72-589c72d837d1"
      },
      "source": [
        "print(max_height,max_width)"
      ],
      "execution_count": null,
      "outputs": [
        {
          "output_type": "stream",
          "name": "stdout",
          "text": [
            "68 63\n"
          ]
        }
      ]
    },
    {
      "cell_type": "code",
      "metadata": {
        "id": "aFXR7RmX_2Dl"
      },
      "source": [
        "from tensorflow.keras.utils import img_to_array, to_categorical"
      ],
      "execution_count": null,
      "outputs": []
    },
    {
      "cell_type": "code",
      "metadata": {
        "id": "wcpc1j9P_cZG"
      },
      "source": [
        "path='/content/drive/MyDrive/MachineLearning/s_croped_png/'"
      ],
      "execution_count": null,
      "outputs": []
    },
    {
      "cell_type": "code",
      "metadata": {
        "id": "Q2Z-UYi67SIv"
      },
      "source": [
        "labels=[]\n",
        "data=[]\n",
        "siz=[]\n",
        "for image_name in image_list:\n",
        "  label=int(image_name.split('_')[0])\n",
        "  labels.append(label)\n",
        "\n",
        "  image=cv2.imread(path+image_name)\n",
        "  #make all images of the same size\n",
        "  image=cv2.copyMakeBorder(image, (max_height-image.shape[0])//2, max_height-(image.shape[0]+((max_height-image.shape[0])//2)), (max_width-image.shape[1])//2, max_width-(image.shape[1]+((max_width-image.shape[1])//2)), cv2.BORDER_CONSTANT,value=(255,255,255))\n",
        "  siz.append(list(image.shape))\n",
        "  #bring all images to gray mode:\n",
        "  image=cv2.cvtColor(image,cv2.COLOR_BGR2GRAY)\n",
        "  #Convert images to array:\n",
        "  image=img_to_array(image)\n",
        "  data.append(image)\n",
        "labels=np.array(labels)\n",
        "data=np.array(data,dtype='float')/255.0"
      ],
      "execution_count": null,
      "outputs": []
    },
    {
      "cell_type": "code",
      "metadata": {
        "colab": {
          "base_uri": "https://localhost:8080/"
        },
        "id": "uOqDXUwqo7ph",
        "outputId": "b49cced4-c814-42bf-e222-467c2a3570dc"
      },
      "source": [
        "data.shape"
      ],
      "execution_count": null,
      "outputs": [
        {
          "output_type": "execute_result",
          "data": {
            "text/plain": [
              "(1600, 68, 63, 1)"
            ]
          },
          "metadata": {},
          "execution_count": 36
        }
      ]
    },
    {
      "cell_type": "code",
      "metadata": {
        "colab": {
          "base_uri": "https://localhost:8080/"
        },
        "id": "jMD9L7rRpo48",
        "outputId": "62001138-8204-456d-c53a-24927258a497"
      },
      "source": [
        "labels.shape"
      ],
      "execution_count": null,
      "outputs": [
        {
          "output_type": "execute_result",
          "data": {
            "text/plain": [
              "(1600,)"
            ]
          },
          "metadata": {},
          "execution_count": 37
        }
      ]
    },
    {
      "cell_type": "code",
      "metadata": {
        "id": "6GMG-qR6rW-9"
      },
      "source": [
        "labels=to_categorical(labels)"
      ],
      "execution_count": null,
      "outputs": []
    },
    {
      "cell_type": "code",
      "metadata": {
        "colab": {
          "base_uri": "https://localhost:8080/"
        },
        "id": "X-VVUm9c8JyS",
        "outputId": "c8bee484-2ad3-4c8d-e011-829183f1d2ad"
      },
      "source": [
        "labels.shape"
      ],
      "execution_count": null,
      "outputs": [
        {
          "output_type": "execute_result",
          "data": {
            "text/plain": [
              "(1600, 10)"
            ]
          },
          "metadata": {},
          "execution_count": 39
        }
      ]
    },
    {
      "cell_type": "markdown",
      "metadata": {
        "id": "M3OInuH9GSKS"
      },
      "source": [
        "\n",
        "##Prepairing the train and test split"
      ]
    },
    {
      "cell_type": "code",
      "metadata": {
        "id": "twqDZjmFr59w"
      },
      "source": [
        "from sklearn.model_selection import train_test_split"
      ],
      "execution_count": null,
      "outputs": []
    },
    {
      "cell_type": "code",
      "metadata": {
        "id": "UjxoMCqA3S3k"
      },
      "source": [
        "data_train, data_test, label_train, label_test=train_test_split(data, labels, test_size=.2, random_state=42, shuffle=True)"
      ],
      "execution_count": null,
      "outputs": []
    },
    {
      "cell_type": "markdown",
      "metadata": {
        "id": "6dlYZ-GiGXSL"
      },
      "source": [
        "\n",
        "##Prepairing the model"
      ]
    },
    {
      "cell_type": "code",
      "metadata": {
        "id": "4dJh0sr74InY"
      },
      "source": [
        "import tensorflow as tf\n",
        "from keras.models import Sequential \n",
        "from keras.layers import Dense, Conv2D, MaxPooling2D, Flatten "
      ],
      "execution_count": null,
      "outputs": []
    },
    {
      "cell_type": "code",
      "metadata": {
        "colab": {
          "base_uri": "https://localhost:8080/"
        },
        "id": "6_ijISreTbRt",
        "outputId": "52181259-dc1c-4c15-a138-4d8a8a2abab7"
      },
      "source": [
        "data.shape"
      ],
      "execution_count": null,
      "outputs": [
        {
          "output_type": "execute_result",
          "data": {
            "text/plain": [
              "(1600, 68, 63, 1)"
            ]
          },
          "metadata": {},
          "execution_count": 43
        }
      ]
    },
    {
      "cell_type": "code",
      "metadata": {
        "id": "i03XSy3P7UYr"
      },
      "source": [
        "model=Sequential()\n",
        "\n",
        "model.add(Conv2D(filters=32,kernel_size=(3,3),activation='relu',input_shape=(data.shape[1],data.shape[2],1)))\n",
        "model.add(MaxPooling2D(pool_size=(2,2)))\n",
        "model.add(Conv2D(filters=64,kernel_size=(3,3),activation='relu'))\n",
        "model.add(MaxPooling2D(pool_size=(2,2)))\n",
        "model.add(Conv2D(filters=64,kernel_size=(3,3),activation='relu'))\n",
        "\n",
        "model.add(Flatten())\n",
        "model.add(Dense(units=64,activation='relu'))\n",
        "model.add(Dense(units=10,activation='softmax'))"
      ],
      "execution_count": null,
      "outputs": []
    },
    {
      "cell_type": "code",
      "metadata": {
        "colab": {
          "base_uri": "https://localhost:8080/"
        },
        "id": "csqGAE117k2V",
        "outputId": "89c53927-cf28-4889-c294-186ef378bba1"
      },
      "source": [
        "model.summary()"
      ],
      "execution_count": null,
      "outputs": [
        {
          "output_type": "stream",
          "name": "stdout",
          "text": [
            "Model: \"sequential\"\n",
            "_________________________________________________________________\n",
            "Layer (type)                 Output Shape              Param #   \n",
            "=================================================================\n",
            "conv2d (Conv2D)              (None, 66, 61, 32)        320       \n",
            "_________________________________________________________________\n",
            "max_pooling2d (MaxPooling2D) (None, 33, 30, 32)        0         \n",
            "_________________________________________________________________\n",
            "conv2d_1 (Conv2D)            (None, 31, 28, 64)        18496     \n",
            "_________________________________________________________________\n",
            "max_pooling2d_1 (MaxPooling2 (None, 15, 14, 64)        0         \n",
            "_________________________________________________________________\n",
            "conv2d_2 (Conv2D)            (None, 13, 12, 64)        36928     \n",
            "_________________________________________________________________\n",
            "flatten (Flatten)            (None, 9984)              0         \n",
            "_________________________________________________________________\n",
            "dense (Dense)                (None, 64)                639040    \n",
            "_________________________________________________________________\n",
            "dense_1 (Dense)              (None, 10)                650       \n",
            "=================================================================\n",
            "Total params: 695,434\n",
            "Trainable params: 695,434\n",
            "Non-trainable params: 0\n",
            "_________________________________________________________________\n"
          ]
        }
      ]
    },
    {
      "cell_type": "code",
      "metadata": {
        "id": "OXSsSTvW7nQ0"
      },
      "source": [
        "model.compile(optimizer='adam',loss='categorical_crossentropy',metrics='categorical_accuracy')"
      ],
      "execution_count": null,
      "outputs": []
    },
    {
      "cell_type": "code",
      "metadata": {
        "colab": {
          "base_uri": "https://localhost:8080/"
        },
        "id": "imdO6NAr7ubL",
        "outputId": "cab96332-9090-4bf7-fbef-5e6f4b14aea3"
      },
      "source": [
        "model_hist=model.fit(data_train,label_train,epochs=10,validation_split=.2)"
      ],
      "execution_count": null,
      "outputs": [
        {
          "output_type": "stream",
          "name": "stdout",
          "text": [
            "Epoch 1/10\n",
            "32/32 [==============================] - 7s 198ms/step - loss: 2.1996 - categorical_accuracy: 0.2441 - val_loss: 1.6635 - val_categorical_accuracy: 0.4570\n",
            "Epoch 2/10\n",
            "32/32 [==============================] - 6s 192ms/step - loss: 0.9923 - categorical_accuracy: 0.6992 - val_loss: 0.7431 - val_categorical_accuracy: 0.7852\n",
            "Epoch 3/10\n",
            "32/32 [==============================] - 6s 191ms/step - loss: 0.5261 - categorical_accuracy: 0.8369 - val_loss: 0.4970 - val_categorical_accuracy: 0.8555\n",
            "Epoch 4/10\n",
            "32/32 [==============================] - 6s 191ms/step - loss: 0.3568 - categorical_accuracy: 0.8926 - val_loss: 0.3885 - val_categorical_accuracy: 0.8867\n",
            "Epoch 5/10\n",
            "32/32 [==============================] - 6s 192ms/step - loss: 0.2971 - categorical_accuracy: 0.9092 - val_loss: 0.3844 - val_categorical_accuracy: 0.8789\n",
            "Epoch 6/10\n",
            "32/32 [==============================] - 6s 190ms/step - loss: 0.2190 - categorical_accuracy: 0.9395 - val_loss: 0.3102 - val_categorical_accuracy: 0.9102\n",
            "Epoch 7/10\n",
            "32/32 [==============================] - 6s 192ms/step - loss: 0.1836 - categorical_accuracy: 0.9453 - val_loss: 0.3781 - val_categorical_accuracy: 0.9023\n",
            "Epoch 8/10\n",
            "32/32 [==============================] - 6s 192ms/step - loss: 0.1414 - categorical_accuracy: 0.9609 - val_loss: 0.3310 - val_categorical_accuracy: 0.9102\n",
            "Epoch 9/10\n",
            "32/32 [==============================] - 6s 192ms/step - loss: 0.0931 - categorical_accuracy: 0.9795 - val_loss: 0.4312 - val_categorical_accuracy: 0.8906\n",
            "Epoch 10/10\n",
            "32/32 [==============================] - 6s 192ms/step - loss: 0.0905 - categorical_accuracy: 0.9736 - val_loss: 0.2848 - val_categorical_accuracy: 0.9180\n"
          ]
        }
      ]
    },
    {
      "cell_type": "code",
      "metadata": {
        "id": "7ndbIGPF9R9u"
      },
      "source": [
        "yt=np.argmax(label_test,axis=1)"
      ],
      "execution_count": null,
      "outputs": []
    },
    {
      "cell_type": "code",
      "metadata": {
        "id": "fs8-jc8I-byx"
      },
      "source": [
        "yp=model.predict(data_test)"
      ],
      "execution_count": null,
      "outputs": []
    },
    {
      "cell_type": "code",
      "metadata": {
        "id": "pFE17aWu-Vb0"
      },
      "source": [
        "yp=np.argmax(yp,axis=1)"
      ],
      "execution_count": null,
      "outputs": []
    },
    {
      "cell_type": "markdown",
      "metadata": {
        "id": "n8lfdnpHGbgH"
      },
      "source": [
        "\n",
        "##Model Accuracy"
      ]
    },
    {
      "cell_type": "code",
      "metadata": {
        "id": "caSsc4WdAtzl"
      },
      "source": [
        "from sklearn.metrics import accuracy_score"
      ],
      "execution_count": null,
      "outputs": []
    },
    {
      "cell_type": "code",
      "metadata": {
        "colab": {
          "base_uri": "https://localhost:8080/"
        },
        "id": "naHTeJEdAiwc",
        "outputId": "a8e6e801-d943-4902-f1ba-a3d3fba3adb0"
      },
      "source": [
        "accuracy_score(yp,yt)"
      ],
      "execution_count": null,
      "outputs": [
        {
          "output_type": "execute_result",
          "data": {
            "text/plain": [
              "0.925"
            ]
          },
          "metadata": {},
          "execution_count": 52
        }
      ]
    },
    {
      "cell_type": "code",
      "metadata": {
        "id": "W5kTS-Om-mDy"
      },
      "source": [
        "from sklearn.metrics import confusion_matrix"
      ],
      "execution_count": null,
      "outputs": []
    },
    {
      "cell_type": "code",
      "metadata": {
        "id": "j5JWcuYu-qxB"
      },
      "source": [
        "cm=confusion_matrix(yt,yp,normalize='true')"
      ],
      "execution_count": null,
      "outputs": []
    },
    {
      "cell_type": "code",
      "metadata": {
        "id": "-oF5L3wd_Xgt"
      },
      "source": [
        "import seaborn as sn"
      ],
      "execution_count": null,
      "outputs": []
    },
    {
      "cell_type": "code",
      "metadata": {
        "colab": {
          "base_uri": "https://localhost:8080/",
          "height": 558
        },
        "id": "JEtuMbtS_rMk",
        "outputId": "5de0c52e-2bb0-473e-d4c3-00536744a1cb"
      },
      "source": [
        "plt.figure(figsize=[9,9])\n",
        "sn.heatmap(cm, annot=True, fmt='.2f', cmap='YlGnBu')"
      ],
      "execution_count": null,
      "outputs": [
        {
          "output_type": "execute_result",
          "data": {
            "text/plain": [
              "<matplotlib.axes._subplots.AxesSubplot at 0x7fd0b8732a90>"
            ]
          },
          "metadata": {},
          "execution_count": 56
        },
        {
          "output_type": "display_data",
          "data": {
            "image/png": "[encoded data removed]",
            "text/plain": [
              "<Figure size 648x648 with 2 Axes>"
            ]
          },
          "metadata": {
            "needs_background": "light"
          }
        }
      ]
    },
    {
      "cell_type": "markdown",
      "metadata": {
        "id": "l63QSBuPGe9E"
      },
      "source": [
        "\n",
        "##Accuracy and loss visualization "
      ]
    },
    {
      "cell_type": "code",
      "metadata": {
        "colab": {
          "base_uri": "https://localhost:8080/",
          "height": 279
        },
        "id": "csz1c0DvABgX",
        "outputId": "8ba89536-9429-4357-91f5-7f2cf7b07c25"
      },
      "source": [
        "plt.plot(model_hist.history['categorical_accuracy'],label='train acc')\n",
        "plt.plot(model_hist.history['val_categorical_accuracy'],label='val acc')\n",
        "plt.legend(loc='lower right')\n",
        "plt.xlabel('epochs')\n",
        "plt.ylabel('accuracy')\n",
        "plt.show();"
      ],
      "execution_count": null,
      "outputs": [
        {
          "output_type": "display_data",
          "data": {
            "image/png": "[encoded data removed]",
            "text/plain": [
              "<Figure size 432x288 with 1 Axes>"
            ]
          },
          "metadata": {
            "needs_background": "light"
          }
        }
      ]
    },
    {
      "cell_type": "code",
      "metadata": {
        "colab": {
          "base_uri": "https://localhost:8080/",
          "height": 279
        },
        "id": "-c2ck47uBcqB",
        "outputId": "9eadcbcd-8ae6-41a1-a9cc-6f540383b0f5"
      },
      "source": [
        "plt.plot(model_hist.history['loss'],label='train loss')\n",
        "plt.plot(model_hist.history['val_loss'],label='val loss')\n",
        "plt.legend(loc='upper right')\n",
        "plt.xlabel('epochs')\n",
        "plt.ylabel('loss')\n",
        "plt.show();"
      ],
      "execution_count": null,
      "outputs": [
        {
          "output_type": "display_data",
          "data": {
            "image/png": "[encoded data removed]",
            "text/plain": [
              "<Figure size 432x288 with 1 Axes>"
            ]
          },
          "metadata": {
            "needs_background": "light"
          }
        }
      ]
    },
    {
      "cell_type": "code",
      "metadata": {
        "colab": {
          "base_uri": "https://localhost:8080/"
        },
        "id": "UW8AThRiB-Bi",
        "outputId": "fb9d61ac-3c11-4cc6-e161-42be6927b80d"
      },
      "source": [
        "model_path='/content/drive/MyDrive/MachineLearning/persian_minst2'\n",
        "model.save(model_path)"
      ],
      "execution_count": null,
      "outputs": [
        {
          "output_type": "stream",
          "name": "stdout",
          "text": [
            "INFO:tensorflow:Assets written to: /content/drive/MyDrive/MachineLearning/persian_minst2/assets\n"
          ]
        }
      ]
    },
    {
      "cell_type": "code",
      "metadata": {
        "id": "1_hX2TZpCicE"
      },
      "source": [
        ""
      ],
      "execution_count": null,
      "outputs": []
    }
  ]
}